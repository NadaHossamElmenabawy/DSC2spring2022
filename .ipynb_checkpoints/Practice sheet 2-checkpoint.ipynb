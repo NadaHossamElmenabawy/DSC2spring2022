{
 "cells": [
  {
   "cell_type": "markdown",
   "id": "30613689",
   "metadata": {},
   "source": [
    "# Practice Sheet: Probability distributions/Confidence Intervals"
   ]
  },
  {
   "cell_type": "markdown",
   "id": "81d93349",
   "metadata": {},
   "source": [
    "## Exercice 1"
   ]
  },
  {
   "cell_type": "markdown",
   "id": "a60475b3",
   "metadata": {},
   "source": [
    "A random variable $X$ is with Binomial distribution with parameters $n\\in \\mathbb{N}^*$ (size) and $p\\in [0,1]$ (probability) if the outcomes of $X$ are in the set $\\{1,2,\\ldots,n\\}$ and for any $i\\in \\{1,2,\\ldots,n\\}$:\n",
    "\n",
    "$$\\mathbb{P}(X=1)=\\displaystyle {n \\choose k} p^k (1-p)^{n-k}=\\displaystyle\\frac{n!}{k!(n-k)!}p^k (1-p)^{n-k}$$"
   ]
  },
  {
   "cell_type": "markdown",
   "id": "9e41b194",
   "metadata": {},
   "source": [
    "For example, we flip a coin $n=10$ times, and $X$ can be the number of Head outcomes. If $p$ is the probability of observing Head, then $1-p$ is observing a Tail, $X$ is a random variable with Binomial distribution with parameter size $n=10$, and probability $p$. "
   ]
  },
  {
   "cell_type": "markdown",
   "id": "888cdb74",
   "metadata": {},
   "source": [
    " `stats.binom()`, from `scipy` library, is the Python command that can define a Binomial random variable. It has two arguments: the size $n$ and the probability $p$. For example,  `stats.binom(10,.4)` means that we have defined a Binomial random variable with $n=10$ and $p=.4$.  "
   ]
  },
  {
   "cell_type": "markdown",
   "id": "07d758de",
   "metadata": {},
   "source": [
    "Let's consider the following Python code "
   ]
  },
  {
   "cell_type": "code",
   "execution_count": 1,
   "id": "245624d2",
   "metadata": {},
   "outputs": [],
   "source": [
    "import numpy as np"
   ]
  },
  {
   "cell_type": "code",
   "execution_count": 2,
   "id": "10c21239",
   "metadata": {},
   "outputs": [],
   "source": [
    "from scipy import stats"
   ]
  },
  {
   "cell_type": "code",
   "execution_count": 12,
   "id": "1c5bf6a0",
   "metadata": {},
   "outputs": [],
   "source": [
    "X= stats.binom(15,.6)"
   ]
  },
  {
   "cell_type": "code",
   "execution_count": 13,
   "id": "03c0400e",
   "metadata": {},
   "outputs": [
    {
     "data": {
      "text/plain": [
       "1.073741824000001e-06"
      ]
     },
     "execution_count": 13,
     "metadata": {},
     "output_type": "execute_result"
    }
   ],
   "source": [
    "(.4)**15"
   ]
  },
  {
   "cell_type": "code",
   "execution_count": 15,
   "id": "8f7a8d60",
   "metadata": {},
   "outputs": [
    {
     "data": {
      "text/plain": [
       "0.00025367150592000057"
      ]
     },
     "execution_count": 15,
     "metadata": {},
     "output_type": "execute_result"
    }
   ],
   "source": [
    "X.pmf(2)"
   ]
  },
  {
   "cell_type": "code",
   "execution_count": 16,
   "id": "4c34eec3",
   "metadata": {},
   "outputs": [
    {
     "data": {
      "text/plain": [
       "0.06121410527231985"
      ]
     },
     "execution_count": 16,
     "metadata": {},
     "output_type": "execute_result"
    }
   ],
   "source": [
    "X.pmf(6)"
   ]
  },
  {
   "cell_type": "code",
   "execution_count": 17,
   "id": "4ec07c9a",
   "metadata": {},
   "outputs": [
    {
     "data": {
      "text/plain": [
       "2.415919104000003e-05"
      ]
     },
     "execution_count": 17,
     "metadata": {},
     "output_type": "execute_result"
    }
   ],
   "source": [
    "X.pmf(1)"
   ]
  },
  {
   "cell_type": "code",
   "execution_count": 18,
   "id": "c51e71db",
   "metadata": {},
   "outputs": [
    {
     "data": {
      "text/plain": [
       "0.0016488647884800034"
      ]
     },
     "execution_count": 18,
     "metadata": {},
     "output_type": "execute_result"
    }
   ],
   "source": [
    "X.pmf(3)"
   ]
  },
  {
   "cell_type": "code",
   "execution_count": 19,
   "id": "b431a868",
   "metadata": {},
   "outputs": [
    {
     "data": {
      "text/plain": [
       "0.03383330288435202"
      ]
     },
     "execution_count": 19,
     "metadata": {},
     "output_type": "execute_result"
    }
   ],
   "source": [
    "X.cdf(5)"
   ]
  },
  {
   "cell_type": "markdown",
   "id": "734ef6ad",
   "metadata": {},
   "source": [
    "1. Compute the following probabilities by using the previous code:\n",
    "\n",
    "     1. $\\mathbb{P}(X\\leq 2)$?\n",
    "     2. $\\mathbb{P}(X>6)$?\n",
    "     3. $\\mathbb{P}(X=4)$?\n",
    "\n",
    "2. A multiple-choice test has 15 questions, each of which has five choices. An unprepared student taking the test answers each of the questions completely randomly by choosing an arbitrary answer from the five provided. Suppose X denotes the number of answers that the student gets right. Compute using a Python code the following probabilities:  \n",
    "  1. All the students' answers are wrong.\n",
    "  2. All the students' answers are correct.\n",
    "  3. At least the student answers correctly to 7 questions. \n",
    "  \n",
    "3. We consider two grading systems: \n",
    "\n",
    "+ System A, the student gets +2 for each correct answer and 0 for each wrong answer.\n",
    "+ System B, the student receives +2 for each correct answer and -1 for each wrong answer.\n",
    "\n",
    "Compare the probability of getting at least 15 between the grading systems? What's your conclusion? "
   ]
  },
  {
   "cell_type": "markdown",
   "id": "e8ff3889",
   "metadata": {},
   "source": []
  }
 ],
 "metadata": {
  "kernelspec": {
   "display_name": "Python 3 (ipykernel)",
   "language": "python",
   "name": "python3"
  },
  "language_info": {
   "codemirror_mode": {
    "name": "ipython",
    "version": 3
   },
   "file_extension": ".py",
   "mimetype": "text/x-python",
   "name": "python",
   "nbconvert_exporter": "python",
   "pygments_lexer": "ipython3",
   "version": "3.9.7"
  }
 },
 "nbformat": 4,
 "nbformat_minor": 5
}
